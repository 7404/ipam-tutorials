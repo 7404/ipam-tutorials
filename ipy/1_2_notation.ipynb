{
 "metadata": {
  "name": "1_2_notation"
 },
 "nbformat": 3,
 "nbformat_minor": 0,
 "worksheets": [
  {
   "cells": [
    {
     "cell_type": "markdown",
     "metadata": {},
     "source": [
      "## Notational Conventions:\n",
      "\n",
      "* Expressions that appear in fixed-width font like `a = b + c` are meant to be\n",
      "  interpreted as Python code, whereas expressions appearing in italics like $a\n",
      "  = b + c$ are meant to be interpreted as math notation.\n",
      "\n",
      "* In math notation, non-bold lower-case symols denote scalars.\n",
      "\n",
      "* In math notation, bold lower-case symbols like $\\mathbf{x}$ and\n",
      "  $\\mathbf{h}$ denote vectors.\n",
      "\n",
      "* In math notation, upper-case symbols like $W$ and $V$ typically denote\n",
      "  matrices.\n",
      "\n",
      "* In the LaTeX-powered \"math\" expressions the notation $[a, b]$ denotes\n",
      "  the _continuous inclusive range_ of real-valued numbers $u$ satisfying\n",
      "  $0 \\leq x \\leq 1$.  In contrast, the Python syntax `[a, b]` denotes a\n",
      "  _list_ data structure of two elements.\n",
      "\n",
      "* Python and NumPy tend to favor C-style \"row-major\" matrices, and we\n",
      "  will follow that convention in the math sections too.\n",
      "  Consequently, vector-matrix products will typically be written with\n",
      "  the vector on the _left_ and the matrix on the _right_, as in\n",
      "  $\\mathbf{h}V$."
     ]
    }
   ],
   "metadata": {}
  }
 ]
}