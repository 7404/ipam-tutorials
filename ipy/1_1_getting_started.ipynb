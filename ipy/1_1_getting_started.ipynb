{
 "metadata": {
  "name": "1_1_getting_started"
 },
 "nbformat": 3,
 "nbformat_minor": 0,
 "worksheets": [
  {
   "cells": [
    {
     "cell_type": "markdown",
     "metadata": {},
     "source": [
      "# Getting Started\n",
      "\n",
      "Before we dive into deep learning algorithms, lets make sure we understand the basics of the Python language and the IPython environment. Python is an interpreted language, and the iPython environment (powering this notebook) makes Python easy to learn, and fun to play with.\n",
      "\n",
      "If you're new to Python or the IPython notebook, get started by running the following code fragment. You can run it by clicking on the code and either:\n",
      "\n",
      " * pressing the gray button above that looks like the \"play\" button on a stereo\n",
      " * pressing CTRL-ENTER when the cursor is in the box\n",
      " * using the Cell drop-down menu's \"Run\" command"
     ]
    },
    {
     "cell_type": "code",
     "collapsed": false,
     "input": [
      "print \"Hello Random World\"\n",
      "seed(123)\n",
      "imshow(rand(10, 10))"
     ],
     "language": "python",
     "metadata": {},
     "outputs": []
    },
    {
     "cell_type": "markdown",
     "metadata": {},
     "source": [
      "You can also edit the code and run it again the same way. The new output will replace the old output.\n",
      "\n",
      "If you want to play around with Python, you might take the following as a point of departure:"
     ]
    },
    {
     "cell_type": "code",
     "collapsed": false,
     "input": [
      "a = 'foo'  # -- strings are basic data types\n",
      "if 'foo' == \"foo\":\n",
      "    print \"\n",
      "    \n",
      "b = 3.4    # -- floating point literal\n",
      "a = 5      # -- integer literal; notice `a` can be re-used for different types\n",
      "\n",
      "c  = (1, 2, 3)  # -- tuples are immutable sequences\n",
      "d  = [1, 2, 3]  # -- lists are mutable sequences\n",
      "\n",
      "e = {'a': 6, 5: 8, c: 'foo'}   # -- dictionary-creation syntax\n",
      "\n",
      "# -- define a function like this\n",
      "def fn(x):\n",
      "    return x + 2\n",
      "\n",
      "# -- sometimes you might see nested functions\n",
      "def f(x):\n",
      "    def g(y):\n",
      "        return x + y\n",
      "    return g\n",
      "\n",
      "add_2 = f(2)\n",
      "print 'add_2(5) =', add_2(5)\n"
     ],
     "language": "python",
     "metadata": {},
     "outputs": []
    },
    {
     "cell_type": "markdown",
     "metadata": {},
     "source": [
      "There are several great resources to help you get oriented to use Python for\n",
      "numeric scientific work.\n",
      "\n",
      "* [Unix/Python/NumPy](http://www.cs.utah.edu/~hal/courses/2009F_ML/p0/) - This\n",
      "  is a really high-level intro to unix and Python.  There is tons of\n",
      "  documentation for these things and they're kind of out of scope of these\n",
      "  tutorials--by all means dig around the net for more background if you want\n",
      "  to know more.\n",
      "\n",
      "* [NumPy basics](http://www.scipy.org/Tentative_NumPy_Tutorial) \n",
      "\n",
      "* [SciPy Getting Started](http://www.scipy.org/Getting_Started)"
     ]
    },
    {
     "cell_type": "markdown",
     "metadata": {},
     "source": [
      "## Exercise: Browsing through Data Sets\n",
      "\n",
      "The data sets we will use in the upcoming tutorials are provided via the\n",
      "[skdata](http://jaberg.github.com/skdata) package. The skdata package provides the logic of downloading,\n",
      "unpacking, and providing a meaningful Python interface to various public data\n",
      "sets.\n",
      "\n",
      "Running the following should show a picture of a boat, though it may have to first download the CIFAR-10 data set in order to do it.\n",
      "Once the data set has been downloaded, it is stored in `~/.skdata/cifar10` for re-use."
     ]
    },
    {
     "cell_type": "code",
     "collapsed": false,
     "input": [
      "from skdata.cifar10.views import OfficialImageClassificationTask\n",
      "task = OfficialImageClassificationTask()\n",
      "print 'Image shape', task.train.x[8].shape\n",
      "imshow(task.train.x[8])"
     ],
     "language": "python",
     "metadata": {},
     "outputs": []
    },
    {
     "cell_type": "code",
     "collapsed": false,
     "input": [
      "from skdata.mnist.views import OfficialImageClassification\n",
      "task = OfficialImageClassification()\n",
      "print 'Digit shape', task.train.x[0].shape\n",
      "imshow(task.train.x[0][:,:,0], cmap=cm.gray)"
     ],
     "language": "python",
     "metadata": {},
     "outputs": []
    },
    {
     "cell_type": "markdown",
     "metadata": {},
     "source": [
      "### Exercise 1\n",
      "\n",
      "How many examples are in each data set, how big is each one? How many floating point values are in each image?"
     ]
    },
    {
     "cell_type": "code",
     "collapsed": false,
     "input": [
      "# Write your answer here"
     ],
     "language": "python",
     "metadata": {},
     "outputs": []
    },
    {
     "cell_type": "markdown",
     "metadata": {},
     "source": [
      "### Exercise 2\n",
      "\n",
      "How are the examples of each data set sorted? Stochastic gradient descent is not very efficient when it iterates through all the examples of one class, then all the examples of the next class, etc. Do any of our data sets need to be shuffled?"
     ]
    },
    {
     "cell_type": "code",
     "collapsed": false,
     "input": [
      "# Write your answer here"
     ],
     "language": "python",
     "metadata": {},
     "outputs": []
    },
    {
     "cell_type": "markdown",
     "metadata": {},
     "source": [
      "### Exercise 3\n",
      "\n",
      "How are the pixel colors encoded in each data set? How are the labels encoded?  Tip: the labels are in `train.y`"
     ]
    },
    {
     "cell_type": "code",
     "collapsed": false,
     "input": [
      "# Write your answer here"
     ],
     "language": "python",
     "metadata": {},
     "outputs": []
    },
    {
     "cell_type": "markdown",
     "metadata": {},
     "source": [
      "### Exercise 4\n",
      "\n",
      "The task objects have a `test` attribute as well as the `train` attribute which contains the test set for estimating generalization by cross-validation. How big are the test sets?"
     ]
    },
    {
     "cell_type": "code",
     "collapsed": false,
     "input": [
      "# Write your answer here"
     ],
     "language": "python",
     "metadata": {},
     "outputs": []
    }
   ],
   "metadata": {}
  }
 ]
}